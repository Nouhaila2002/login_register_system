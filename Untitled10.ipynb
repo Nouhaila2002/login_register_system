{
  "nbformat": 4,
  "nbformat_minor": 0,
  "metadata": {
    "colab": {
      "provenance": [],
      "collapsed_sections": [],
      "authorship_tag": "ABX9TyOyLLyKAUEGvp4ZoeYBxxgy",
      "include_colab_link": true
    },
    "kernelspec": {
      "name": "python3",
      "display_name": "Python 3"
    },
    "language_info": {
      "name": "python"
    },
    "gpuClass": "standard"
  },
  "cells": [
    {
      "cell_type": "markdown",
      "metadata": {
        "id": "view-in-github",
        "colab_type": "text"
      },
      "source": [
        "<a href=\"https://colab.research.google.com/github/Nouhaila2002/login_register_system/blob/main/Untitled10.ipynb\" target=\"_parent\"><img src=\"https://colab.research.google.com/assets/colab-badge.svg\" alt=\"Open In Colab\"/></a>"
      ]
    },
    {
      "cell_type": "markdown",
      "source": [
        "# Import Dependencies and Data"
      ],
      "metadata": {
        "id": "t7sGC9jONOwz"
      }
    },
    {
      "cell_type": "code",
      "execution_count": null,
      "metadata": {
        "id": "o-A6SuskMxjR"
      },
      "outputs": [],
      "source": [
        "!pip install tensorflow tensorflow-gpu matplotlib tensorflow-datasets ipywidgets  "
      ]
    },
    {
      "cell_type": "code",
      "source": [
        "!pip list"
      ],
      "metadata": {
        "id": "Id42NJwqNB51"
      },
      "execution_count": null,
      "outputs": []
    },
    {
      "cell_type": "code",
      "source": [
        "# limit the gpu consumption (limit the virtual ram growth to don't get a lot of our of memmory errors because tensorflow it'll expand to use all of that ram)\n",
        "# Bringing in (leverage) tensorflow\n",
        "#import tensorflow as tf\n",
        "#gpus = tf.config.experimental.list_physical_devices('GPU')\n",
        "#for gpu in gpus:\n",
        "#  tf.config.experimental.set_memory_growth(gpu, True)  #we're not going to blow out our vram whene it comes to actually build up our DNN"
      ],
      "metadata": {
        "id": "OpMQghy9N6V5"
      },
      "execution_count": null,
      "outputs": []
    },
    {
      "cell_type": "code",
      "source": [
        "# Bringing in tensorflow datasets for fashion mnist\n",
        "import tensorflow_datasets as tfds\n",
        "# Bringin in matplotlib for viz stuff\n",
        "from matplotlib import pyplot as plt"
      ],
      "metadata": {
        "id": "pUZy3hm-PtCe"
      },
      "execution_count": null,
      "outputs": []
    },
    {
      "cell_type": "code",
      "source": [
        "# Download and import our datasets\n",
        "# Use the tensorflow datasets api to bring in the data source\n",
        "# To will be able to generate our fashion components \n",
        "ds = tfds.load('fashion_mnist', split='train')"
      ],
      "metadata": {
        "id": "DAKi1cphPzWo"
      },
      "execution_count": null,
      "outputs": []
    },
    {
      "cell_type": "code",
      "source": [
        "ds.as_numpy_iterator().next()['image']"
      ],
      "metadata": {
        "id": "lMfeMuddTxB2"
      },
      "execution_count": null,
      "outputs": []
    },
    {
      "cell_type": "code",
      "source": [
        "ds.as_numpy_iterator().next()['label']"
      ],
      "metadata": {
        "colab": {
          "base_uri": "https://localhost:8080/"
        },
        "id": "JmtiplU5UlEQ",
        "outputId": "be20eb29-3635-4b74-dcdc-d4674f05d2d7"
      },
      "execution_count": null,
      "outputs": [
        {
          "output_type": "execute_result",
          "data": {
            "text/plain": [
              "2"
            ]
          },
          "metadata": {},
          "execution_count": 7
        }
      ]
    },
    {
      "cell_type": "markdown",
      "source": [
        "# Vis Data and Build Dataset"
      ],
      "metadata": {
        "id": "FHZ9vZcla2OL"
      }
    },
    {
      "cell_type": "code",
      "source": [
        "# Do some data transformation \n",
        "import numpy as np"
      ],
      "metadata": {
        "id": "3szYAJi6VLav"
      },
      "execution_count": null,
      "outputs": []
    },
    {
      "cell_type": "code",
      "source": [
        "# Setup data connection aka iterator\n",
        "dataiterator = ds.as_numpy_iterator()"
      ],
      "metadata": {
        "id": "p35Gr5YkbBiG"
      },
      "execution_count": null,
      "outputs": []
    },
    {
      "cell_type": "code",
      "source": [
        "# Getting data out of the pipeline\n",
        "dataiterator.next()"
      ],
      "metadata": {
        "id": "gPIjQQPfbQL0"
      },
      "execution_count": null,
      "outputs": []
    },
    {
      "cell_type": "code",
      "source": [
        "# Setup the subplot formatting \n",
        "fig, ax = plt.subplots(ncols=4, figsize=(20,20))\n",
        "# Loop four times and get images \n",
        "for idx in range(4):\n",
        "  # Grab an image and label\n",
        "  sample = dataiterator.next()\n",
        "  # Plot the image using a specific subplot\n",
        "  # We squeeze the image because it is inside of a set of subarrays\n",
        "  ax[idx].imshow(np.squeeze(sample['image']))\n",
        "  # Appending the image label as the plot title \n",
        "  ax[idx].title.set_text(sample['label'])"
      ],
      "metadata": {
        "colab": {
          "base_uri": "https://localhost:8080/",
          "height": 298
        },
        "id": "aBpZm5XLbwjW",
        "outputId": "18e54b9b-4dc5-4839-b3b9-64fedd963d33"
      },
      "execution_count": null,
      "outputs": [
        {
          "output_type": "display_data",
          "data": {
            "text/plain": [
              "<Figure size 1440x1440 with 4 Axes>"
            ],
            "image/png": "[encoded data removed]"
          },
          "metadata": {
            "needs_background": "light"
          }
        }
      ]
    },
    {
      "cell_type": "code",
      "source": [
        "# Scale and return images only\n",
        "# These images are represented as values between 0 and 255 in order to build a good DL models (trains a little bit faster and perform a little bit better)  \n",
        "# we typically want to scale values to be between 0 and 1 \n",
        "# this is how you define a preprocessing step whenever you're working with the tensorflow data pipeline\n",
        "\n",
        "def scale_images(data):\n",
        "  image = data['image']\n",
        "  return image/255"
      ],
      "metadata": {
        "id": "68bZMTUUclxE"
      },
      "execution_count": null,
      "outputs": []
    },
    {
      "cell_type": "code",
      "source": [
        "# steps to do whenever we are going and building up a data pipeline for tensorflow :\n",
        "  #map\n",
        "  #cache\n",
        "  #shuffle\n",
        "  #batch\n",
        "  #prefetch"
      ],
      "metadata": {
        "id": "SqNQ1_L7h2Eq"
      },
      "execution_count": null,
      "outputs": []
    },
    {
      "cell_type": "code",
      "source": [
        "# prepared our dataset\n",
        "# build up an entire data pipeline (the mixture shuffle)\n",
        "\n",
        "# Reload the dataset\n",
        "ds = tfds.load('fashion_mnist', split='train')\n",
        "# Running the dataset through the scale_images preprocessing step\n",
        "ds = ds.map(scale_images)\n",
        "# Cache the dataset for that batch\n",
        "ds = ds.cache()\n",
        "# Shuffle it up \n",
        "ds = ds.shuffle(60000)\n",
        "# Batch into 128 images per sample\n",
        "ds = ds.batch(128)\n",
        "# Reduces the likelihood of bottlenecking (eliminate bottlenecking or slows down)\n",
        "ds = ds.prefetch(64)"
      ],
      "metadata": {
        "id": "6EkX_ceNiaWc"
      },
      "execution_count": null,
      "outputs": []
    },
    {
      "cell_type": "code",
      "source": [
        "# We should get a set of images which is a 128 sample in lenght 28*28*1\n",
        "ds.as_numpy_iterator().next().shape"
      ],
      "metadata": {
        "colab": {
          "base_uri": "https://localhost:8080/"
        },
        "id": "SZzEx1AYlEZz",
        "outputId": "a5af4690-2b0c-4472-c2a3-797839adc45b"
      },
      "execution_count": null,
      "outputs": [
        {
          "output_type": "execute_result",
          "data": {
            "text/plain": [
              "(128, 28, 28, 1)"
            ]
          },
          "metadata": {},
          "execution_count": 15
        }
      ]
    },
    {
      "cell_type": "markdown",
      "source": [
        "# Build Neural Network"
      ],
      "metadata": {
        "id": "I0LBcRBb-lg_"
      }
    },
    {
      "cell_type": "markdown",
      "source": [
        "## Import Modelling Components"
      ],
      "metadata": {
        "id": "OEnOETsa-yTJ"
      }
    },
    {
      "cell_type": "code",
      "source": [
        "# Bring in the sequential api for the generator and discriminator\n",
        "from tensorflow.keras.models import Sequential\n",
        "# Bring in the layers for the neural network \n",
        "from tensorflow.keras.layers import Conv2D, Flatten, Dense, Reshape, LeakyReLU, Dropout, UpSampling2D"
      ],
      "metadata": {
        "id": "_7mOcv6fl6jz"
      },
      "execution_count": null,
      "outputs": []
    },
    {
      "cell_type": "markdown",
      "source": [
        "## Build Generator"
      ],
      "metadata": {
        "id": "ykgVaIF2C3uJ"
      }
    },
    {
      "cell_type": "code",
      "source": [
        "def build_generator():\n",
        "\n",
        "  model = Sequential()\n",
        "\n",
        "  # our goal is : 28*28*1 image \n",
        "\n",
        "  #Takes in random values and reshapes it to 7*7*128\n",
        "  #Biginnings of a generated image \n",
        "\n",
        "  # number of units = 7*7*128 because we are going to passing through a 128 random values (latent space) to our generator to help it determine what to generate from there\n",
        "  # give some context to our generator to determine what to actually generate \n",
        "  # converted into a spatial area, 128 is an array of 128 values but we want to convert this into an image we want to gave it some spatial qualities convert it into a shape \n",
        "  # of 7*7*128 by the Dense layer \n",
        "  model.add(Dense(7*7*128, input_dim=128))\n",
        "  # this allows us to cater for non-linearities in our model\n",
        "  model.add(LeakyReLU(0.2))\n",
        "  # this what give us our spatial quality\n",
        "  model.add(Reshape((7,7,128))) # 7*7*128 image\n",
        "\n",
        "\n",
        "  #Upsampling block 1\n",
        "\n",
        "  # this block is effectively going to double this spatial quality \n",
        "  model.add(UpSampling2D())  # output shape : 14*14*128 , expanding the size of our previous layer, there is no parameter in this layer \n",
        "  # condense 7*7*28 down a little bit ?\n",
        "  # the conv layer have 128 units that is going to preserve the number of channels, our kernel size is going to be 5*5, padding : same means that it should not crop \n",
        "  # condence the information from the previous layer and provide a little bit of parametric values or parametric transfprmations to it\n",
        "  # we got some parameters that our NN can learn to be able to generate a better set of values for our output\n",
        "  # give it some trainable parameters this allows us to give a little bit information to what that output actually looks like \n",
        "  model.add(Conv2D(128, 5, padding='same'))\n",
        "  model.add(LeakyReLU(0.2))\n",
        "\n",
        "\n",
        "\n",
        "  #Upsampling block 2\n",
        "\n",
        "\n",
        "  model.add(UpSampling2D())\n",
        "  model.add(Conv2D(128, 5, padding='same'))\n",
        "  model.add(LeakyReLU(0.2))\n",
        "\n",
        "\n",
        "\n",
        "  #Conv block 1\n",
        "\n",
        "  # this give us more knowledge or the ability to pass you have more parameters in our DNN to learn a little bit better, we maintaining the spatial shape\n",
        "  model.add(Conv2D(128, 4, padding='same'))\n",
        "  model.add(LeakyReLU(0.2))\n",
        "\n",
        "\n",
        "\n",
        "  #Cov block 2\n",
        "\n",
        "\n",
        "  # this give us more knowledge or the ability to pass you have more parameters in our DNN to learn a little bit better, we maintaining the spatial shape\n",
        "  model.add(Conv2D(128, 4, padding='same'))\n",
        "  model.add(LeakyReLU(0.2))\n",
        "\n",
        "\n",
        "  # Conv Layer to get to one channel\n",
        "\n",
        "\n",
        "  # now we have one filter we're only going to get one channel out in our image or our generated image but we preserve the shape \n",
        "  # we use sigmoid because we want our values to be between 0 and 1. This is what's going to allow us to generate an image\n",
        "  model.add(Conv2D(1, 4, padding='same', activation='sigmoid')) # output : 28*28*1 with a model that has 2.16 million parameters\n",
        "\n",
        "\n",
        "\n",
        "\n",
        "\n",
        "\n",
        "\n",
        "\n",
        "  return model\n",
        "\n",
        "\n",
        "\n"
      ],
      "metadata": {
        "id": "8qSqimcNCy4r"
      },
      "execution_count": null,
      "outputs": []
    },
    {
      "cell_type": "code",
      "source": [
        "generator = build_generator()\n",
        "generator.summary()"
      ],
      "metadata": {
        "id": "AQ6yDmrpYZps"
      },
      "execution_count": null,
      "outputs": []
    },
    {
      "cell_type": "code",
      "source": [
        "# generate values ( 4 random images) by given random number (128 : what's the model expects to be able to generate some images) using normal distribution to the generator \n",
        "# Generate new fashion \n",
        "\n",
        "\n",
        "img = generator.predict(np.random.randn(4,128,1))\n",
        "img.shape"
      ],
      "metadata": {
        "colab": {
          "base_uri": "https://localhost:8080/"
        },
        "id": "PUZ46IWRY3b3",
        "outputId": "47bead2f-7e7d-44f6-c414-0794a3255a59"
      },
      "execution_count": null,
      "outputs": [
        {
          "output_type": "execute_result",
          "data": {
            "text/plain": [
              "(4, 28, 28, 1)"
            ]
          },
          "metadata": {},
          "execution_count": 19
        }
      ]
    },
    {
      "cell_type": "code",
      "source": [
        "# Setup the subplot formatting \n",
        "fig, ax = plt.subplots(ncols=4, figsize=(20,20))\n",
        "# Loop four times and get images \n",
        "for idx, img in enumerate(img):\n",
        "  # Plot the image using a specific subplot\n",
        "  # We squeeze the image because it is inside of a set of subarrays\n",
        "  ax[idx].imshow(np.squeeze(img))\n",
        "  # Appending the image label as the plot title \n",
        "  ax[idx].title.set_text(idx)"
      ],
      "metadata": {
        "colab": {
          "base_uri": "https://localhost:8080/",
          "height": 298
        },
        "id": "zpUdU0W1bGeY",
        "outputId": "5235442d-ad91-46c3-af0a-6776ef4f5e6f"
      },
      "execution_count": null,
      "outputs": [
        {
          "output_type": "display_data",
          "data": {
            "text/plain": [
              "<Figure size 1440x1440 with 4 Axes>"
            ],
            "image/png": "[encoded data removed]"
          },
          "metadata": {
            "needs_background": "light"
          }
        }
      ]
    },
    {
      "cell_type": "markdown",
      "source": [
        "## Build Discriminator"
      ],
      "metadata": {
        "id": "jPaO_n93lGZF"
      }
    },
    {
      "cell_type": "code",
      "source": [
        "def build_discriminator():\n",
        "\n",
        "  # the goal is to have a single output value (which will be sigmoid 0 to 1, 1:fake image 0:real image )\n",
        "\n",
        "  model = Sequential()\n",
        "\n",
        "  # First Conv Block\n",
        "\n",
        "  # this is going to start condensing down the information that it's getting\n",
        "  model.add(Conv2D(32, 5, input_shape=(28,28,1)))\n",
        "  model.add(LeakyReLU(0.2))\n",
        "  # we add this layer because we want to make it a little bit harder for our discriminator to learn, dropout effectively applies some regularization \n",
        "  model.add(Dropout(0.4))\n",
        "\n",
        "\n",
        "  # Second Conv Block\n",
        "  model.add(Conv2D(64, 5))\n",
        "  model.add(LeakyReLU(0.2))\n",
        "  model.add(Dropout(0.4))\n",
        "\n",
        "  # Third Conv Block\n",
        "  model.add(Conv2D(128, 5))\n",
        "  model.add(LeakyReLU(0.2))\n",
        "  model.add(Dropout(0.4))\n",
        "\n",
        "  # Fourth Conv Block\n",
        "  model.add(Conv2D(256, 5))\n",
        "  model.add(LeakyReLU(0.2))\n",
        "  model.add(Dropout(0.4))\n",
        "\n",
        "\n",
        "  # Flatten then pass to dense layer\n",
        "  model.add(Flatten())\n",
        "  model.add(Dropout(0.4))\n",
        "  model.add(Dense(1, activation='sigmoid'))\n",
        "\n",
        "\n",
        "\n",
        "  return model"
      ],
      "metadata": {
        "id": "_qFjoEHclFYo"
      },
      "execution_count": null,
      "outputs": []
    },
    {
      "cell_type": "code",
      "source": [
        "discriminator = build_discriminator()\n",
        "discriminator.summary()"
      ],
      "metadata": {
        "id": "X_n_UP18scHZ"
      },
      "execution_count": null,
      "outputs": []
    },
    {
      "cell_type": "code",
      "source": [
        " # DNN expects the batch number to be first not a single image\n",
        " discriminator.predict(np.expand_dims(img,0))"
      ],
      "metadata": {
        "colab": {
          "base_uri": "https://localhost:8080/"
        },
        "id": "xYytjhEns0HH",
        "outputId": "c99689d6-b861-4b14-fdc2-eeb0ce5ad403"
      },
      "execution_count": null,
      "outputs": [
        {
          "output_type": "execute_result",
          "data": {
            "text/plain": [
              "array([[0.49529195]], dtype=float32)"
            ]
          },
          "metadata": {},
          "execution_count": 23
        }
      ]
    },
    {
      "cell_type": "markdown",
      "source": [
        "# Construct Training Loop"
      ],
      "metadata": {
        "id": "_RgV9MBU1iRw"
      }
    },
    {
      "cell_type": "markdown",
      "source": [
        "## Setup Losses and Optimizers"
      ],
      "metadata": {
        "id": "-ffLHqh-1rme"
      }
    },
    {
      "cell_type": "code",
      "source": [
        "# Adam is going to be the optimizer for both\n",
        "from tensorflow.keras.optimizers import Adam\n",
        "# Binary cross entroby is going to be the loss for both\n",
        "from tensorflow.keras.losses import BinaryCrossentropy"
      ],
      "metadata": {
        "id": "JWU18pkjuQXu"
      },
      "execution_count": null,
      "outputs": []
    },
    {
      "cell_type": "code",
      "source": [
        "# the learning rate of our generator going to be big than the learning rate of our discriminator because want our discriminator to go too fast and absolutely smash our generator \n",
        "g_opt = Adam(learning_rate=0.0001)\n",
        "d_opt = Adam(learning_rate=0.00001)\n",
        "g_loss = BinaryCrossentropy()\n",
        "d_loss = BinaryCrossentropy()"
      ],
      "metadata": {
        "id": "mX3rP5Ma3Maj"
      },
      "execution_count": null,
      "outputs": []
    },
    {
      "cell_type": "markdown",
      "source": [
        "## Build Subclassed Model"
      ],
      "metadata": {
        "id": "ifiJKSRl5NYh"
      }
    },
    {
      "cell_type": "code",
      "source": [
        "# Importing the base model class to subclass our training step\n",
        "from tensorflow.keras.models import Model\n",
        "import tensorflow as tf"
      ],
      "metadata": {
        "id": "lFLlRtpK4r6M"
      },
      "execution_count": null,
      "outputs": []
    },
    {
      "cell_type": "code",
      "source": [
        "class FashionGAN(Model):\n",
        "  def __init__(self, generator, discriminator, *args, **kwargs):\n",
        "    super().__init__(*args,**kwargs) # passed through those arguments and keyword arguments to our base class (model)\n",
        "\n",
        "    # Create attributes for gen and disc to be able to refer to them\n",
        "    self.generator = generator\n",
        "    self.discriminator = discriminator\n",
        "   \n",
        "  \n",
        "  def compile(self, g_opt, d_opt, g_loss, d_loss, *args, **kwargs):\n",
        "    # Compile with base class\n",
        "    super().compile(*args, **kwargs)\n",
        "\n",
        "\n",
        "    # Create attributes for losses and optimizers\n",
        "    self.g_opt = g_opt\n",
        "    self.d_opt = d_opt\n",
        "    self.g_loss = g_loss\n",
        "    self.d_loss = d_loss\n",
        "\n",
        "\n",
        "\n",
        "  \n",
        "  def train_step(self, batch):\n",
        "    # Get the data\n",
        "    real_images = batch\n",
        "    fake_images = self.generator(tf.random.normal((128, 128, 1)), training = False) # Because our deep generator is not training at the moment we’re just making predictions \n",
        "\n",
        "    # Train the dicriminator\n",
        "    #calculating or monitoring each one of our functions\n",
        "    # this function allows us to calculate all of the operations that are happening by using our DNN and that means that we can use that to calculate our gradient with respect to our loss\n",
        "    with tf.GradientTape() as d_tape:\n",
        "      # Pass the real and fake images to the dicriminator model, make predictions\n",
        "      yhat_real = self.discriminator(real_images, training=True) # True means that the dropout is going to activate, dropout layer gonna run\n",
        "      yhat_fake = self.discriminator(fake_images, training=True)\n",
        "      yhat_realfake = tf.concat([yhat_real, yhat_fake], axis=0)  # combining on the 0 axises \n",
        "\n",
        "      # Create Labels for real and fakes images\n",
        "      y_realfake = tf.concat([tf.zeros_like(yhat_real), tf.ones_like(yhat_fake)], axis=0)\n",
        "\n",
        "      # Add some noise to the true outputs and this is what helps it from learning way too fast (our discrimintor a little bit less certainty about whether or not it's predicting correctly or not so it confuse it a little bit)\n",
        "      noise_real = 0.15*tf.random.uniform(tf.shape(yhat_real))\n",
        "      noise_fake = -0.15*tf.random.uniform(tf.shape(yhat_fake))\n",
        "      y_realfake += tf.concat([noise_real, noise_fake], axis=0)\n",
        "\n",
        "      # Calculate Loss - BINARYCROSS\n",
        "      total_d_loss = self.d_loss(y_realfake, yhat_realfake)\n",
        "\n",
        "    # Apply backpropagation - nn Learn (this is what effectively allows our NN to learn right) using the GradientTape\n",
        "    # first up we are going to calculate our gradients and then we are going to apply our gradients using our optimizer \n",
        "    # that means that we can use that to calculate our gradient with respect to our loss\n",
        "    # we want to calculate the gradient for each one of our trainable variables (we extract those trainable variables using self.dicriminator.trainable_variables)\n",
        "    dgrad = d_tape.gradient(total_d_loss, self.discriminator.trainable_variables)\n",
        "    # apply our gradients using our optimizer, apply backprop, (zip : because we want to do our gradient with respect to each one of those trainable variables, because we want to do them both at the same time)\n",
        "    # look at the gradient for each one of those variables and apply backprop using our learning rate \n",
        "    # apply gradient method from our adam optimizer\n",
        "    self.d_opt.apply_gradients(zip(dgrad, self.discriminator.trainable_variables))\n",
        "\n",
        "\n",
        "\n",
        "\n",
        "\n",
        "\n",
        "\n",
        "    # Train the generator\n",
        "    with tf.GradientTape() as g_tape:\n",
        "      # Gnerate some new images\n",
        "      gen_images = self.generator(tf.random.normal((128,128,1)), training=True)\n",
        "\n",
        "      # Create the predicted Labels (this is a little bit counter-intuitive)\n",
        "      #bacause we're trying to trick our discriminator we're going to set the variables for our generator here to zero, we want actualy that our discriminator to lose out on is we want it to think that our generated images are actually real images, that's how we're going to calculate our loss for our generator\n",
        "      predicted_labels = self.discriminator(gen_images, training=False) #False because we don't want our discriminator to be learning whilst we're actually training our generator \n",
        "\n",
        "      # Calculate Loss\n",
        "      total_g_loss = self.g_loss(tf.zeros_like(predicted_labels), predicted_labels)\n",
        "\n",
        "    # Apply backprop\n",
        "    #calculate our gradient apply backprop and then return our loss metrics then we should be able to train\n",
        "    ggrad = g_tape.gradient(total_g_loss, self.generator.trainable_variables)\n",
        "    self.g_opt.apply_gradients(zip(ggrad, self.generator.trainable_variables))\n",
        "\n",
        "\n",
        "    # return loss metrics (this is important when actually monitoring the model because you want to ensure that the loss metrics are reducing steadily together no one is blowing out versus the other)\n",
        "    return {\"d_loss\":total_d_loss, \"g_loss\":total_g_loss}\n",
        "\n",
        "\n",
        "    "
      ],
      "metadata": {
        "id": "g9vkfwFI6ECJ"
      },
      "execution_count": null,
      "outputs": []
    },
    {
      "cell_type": "code",
      "source": [
        "# other way for doing the thing above to define a custom train_step mothod is :\n",
        "#@tf.function\n",
        "#def train_step():\n",
        "#  pass"
      ],
      "metadata": {
        "id": "ZqDCyTbX7iMI"
      },
      "execution_count": null,
      "outputs": []
    },
    {
      "cell_type": "code",
      "source": [
        "# Create instance of subclassed model\n",
        "fashgan = FashionGAN(generator, discriminator)"
      ],
      "metadata": {
        "id": "NFWcSHCZVAX0"
      },
      "execution_count": null,
      "outputs": []
    },
    {
      "cell_type": "code",
      "source": [
        "\n",
        "# Compile the model\n",
        "fashgan.compile(g_opt, d_opt, g_loss, d_loss)"
      ],
      "metadata": {
        "id": "uEDai_tWVQLd"
      },
      "execution_count": null,
      "outputs": []
    },
    {
      "cell_type": "markdown",
      "source": [
        "## Build Callback\n",
        "\n"
      ],
      "metadata": {
        "id": "h7rlOgE1V3U3"
      }
    },
    {
      "cell_type": "code",
      "source": [
        "import os\n",
        "from tensorflow.keras.preprocessing.image import array_to_img\n",
        "from tensorflow.keras.callbacks import Callback # this allows us to create our own custom callback on epoch end"
      ],
      "metadata": {
        "id": "_j1iDSipVe8Z"
      },
      "execution_count": null,
      "outputs": []
    },
    {
      "cell_type": "code",
      "source": [
        "# this model monitor is going to allow us to save examples of our generated images as we're actually training \n",
        "class ModelMonitor(Callback):\n",
        "    # num_img : that you want to generate , latent_dim : how big a latent dimension (is just the random values that you're passing to your generator to generate a random image ) should be \n",
        "    def __init__(self, num_img=3, latent_dim=128):\n",
        "        self.num_img = num_img\n",
        "        self.latent_dim = latent_dim\n",
        "\n",
        "    def on_epoch_end(self, epoch, logs=None):\n",
        "        #generate random values\n",
        "        random_latent_vectors = tf.random.uniform((self.num_img, self.latent_dim,1))\n",
        "        #pass that to our model generator to generate images\n",
        "        generated_images = self.model.generator(random_latent_vectors)\n",
        "        generated_images *= 255\n",
        "        #coverting it to a numpy array \n",
        "        generated_images.numpy()\n",
        "        for i in range(self.num_img):\n",
        "            img = array_to_img(generated_images[i])\n",
        "            img.save(os.path.join('images', f'generated_img_{epoch}_{i}.png'))"
      ],
      "metadata": {
        "id": "jPzSm6WYWuDV"
      },
      "execution_count": null,
      "outputs": []
    },
    {
      "cell_type": "markdown",
      "source": [
        "## Train\n"
      ],
      "metadata": {
        "id": "HSN-heuYZ8z-"
      }
    },
    {
      "cell_type": "code",
      "source": [
        "# Recommend 2000 epochs\n",
        "hist = fashgan.fit(ds, epochs=20, callbacks=[ModelMonitor()])"
      ],
      "metadata": {
        "id": "kBRLssaNaAJF"
      },
      "execution_count": null,
      "outputs": []
    },
    {
      "cell_type": "markdown",
      "source": [
        "## Review Performance"
      ],
      "metadata": {
        "id": "dy_1cfY_iq6d"
      }
    },
    {
      "cell_type": "code",
      "source": [
        "hist.history"
      ],
      "metadata": {
        "id": "6d7gKaabipxZ"
      },
      "execution_count": null,
      "outputs": []
    },
    {
      "cell_type": "code",
      "source": [
        "plt.suptitle('Loss')\n",
        "plt.plot(hist.history['d_loss'], label='d_loss')\n",
        "plt.plot(hist.history['g_loss'], label='g_loss')\n",
        "plt.legend()\n",
        "plt.show()"
      ],
      "metadata": {
        "id": "_j3ZQFLJaMu5"
      },
      "execution_count": null,
      "outputs": []
    },
    {
      "cell_type": "markdown",
      "source": [
        "## Test Out the Generator"
      ],
      "metadata": {
        "id": "7fYwSYCBkAEK"
      }
    },
    {
      "cell_type": "markdown",
      "source": [
        "## Generate Images"
      ],
      "metadata": {
        "id": "pfBLXUwRnqVB"
      }
    },
    {
      "cell_type": "code",
      "source": [
        "generator.load_weights(os.path.join('archive', 'generatormodel.h5'))"
      ],
      "metadata": {
        "id": "3URIi4LSkOD1"
      },
      "execution_count": null,
      "outputs": []
    },
    {
      "cell_type": "code",
      "source": [
        "imgs = generator.predict(tf.random.normal((16, 128, 1)))"
      ],
      "metadata": {
        "id": "0Y03QN4hnxpb"
      },
      "execution_count": null,
      "outputs": []
    },
    {
      "cell_type": "code",
      "source": [
        "fig, ax = plt.subplots(ncols=4, nrows=4, figsize=(10,10))\n",
        "for r in range(4): \n",
        "    for c in range(4): \n",
        "        ax[r][c].imshow(imgs[(r+1)*(c+1)-1])"
      ],
      "metadata": {
        "id": "z-tqPDfEn1cJ"
      },
      "execution_count": null,
      "outputs": []
    },
    {
      "cell_type": "markdown",
      "source": [
        "## Save the Model"
      ],
      "metadata": {
        "id": "H2Bw1Hgen8Gt"
      }
    },
    {
      "cell_type": "code",
      "source": [
        "generator.save('generator.h5')\n",
        "discriminator.save('discriminator.h5')"
      ],
      "metadata": {
        "id": "a3BYJRJ2n4eC"
      },
      "execution_count": null,
      "outputs": []
    }
  ]
}